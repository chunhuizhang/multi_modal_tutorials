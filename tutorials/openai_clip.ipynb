{
 "cells": [
  {
   "cell_type": "markdown",
   "id": "7988feae-3616-4370-a76b-f735f3a5f3e0",
   "metadata": {},
   "source": [
    "> 对于一个深度学习项目，把握好 输入输出（input、output）以及 loss function 的定义，就基本掌握了一个大概； 然后就是模型拓扑结构；\n",
    "\n",
    "- references\n",
    "    - https://www.v7labs.com/blog/multimodal-deep-learning-guide\n",
    "    - https://towardsdatascience.com/clip-model-and-the-importance-of-multimodal-embeddings-1c8f6b13bf72\n",
    "    - https://github.com/RustamyF/clip-multimodal-ml/blob/main/notebooks/coco2017clip_model.ipynb"
   ]
  },
  {
   "cell_type": "markdown",
   "id": "5fc89d1f-f6c3-4cfb-b9cd-180a07b6d579",
   "metadata": {},
   "source": [
    "## input、output、loss"
   ]
  },
  {
   "cell_type": "markdown",
   "id": "f4b22d56-d6f8-4b83-ae6a-67ef18c7ab67",
   "metadata": {},
   "source": [
    "### loss：training"
   ]
  },
  {
   "cell_type": "markdown",
   "id": "42ffce79-02c9-407f-89e0-704536c92669",
   "metadata": {},
   "source": [
    "### output：inference"
   ]
  }
 ],
 "metadata": {
  "kernelspec": {
   "display_name": "Python 3 (ipykernel)",
   "language": "python",
   "name": "python3"
  },
  "language_info": {
   "codemirror_mode": {
    "name": "ipython",
    "version": 3
   },
   "file_extension": ".py",
   "mimetype": "text/x-python",
   "name": "python",
   "nbconvert_exporter": "python",
   "pygments_lexer": "ipython3",
   "version": "3.10.13"
  }
 },
 "nbformat": 4,
 "nbformat_minor": 5
}
