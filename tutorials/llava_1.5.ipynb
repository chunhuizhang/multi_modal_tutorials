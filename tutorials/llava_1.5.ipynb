{
 "cells": [
  {
   "cell_type": "markdown",
   "id": "28092a05-17a0-4aab-9cb0-6e764bf68d1c",
   "metadata": {},
   "source": [
    "## 多模态大模型组件"
   ]
  },
  {
   "cell_type": "markdown",
   "id": "2989f0f6-4005-418f-9556-a31e4cbc1f88",
   "metadata": {},
   "source": [
    "- Visual Encoder：视觉信息编码；\n",
    "- Adapter：视觉语义向着文本空间靠近\n",
    "- LLM：语言知识、世界知识以及逻辑推理能力；\n",
    "- 多模态数据：不同模态的语义对齐；\n",
    "- Instruct Tuning：理解指令；"
   ]
  }
 ],
 "metadata": {
  "kernelspec": {
   "display_name": "Python 3 (ipykernel)",
   "language": "python",
   "name": "python3"
  },
  "language_info": {
   "codemirror_mode": {
    "name": "ipython",
    "version": 3
   },
   "file_extension": ".py",
   "mimetype": "text/x-python",
   "name": "python",
   "nbconvert_exporter": "python",
   "pygments_lexer": "ipython3",
   "version": "3.10.13"
  }
 },
 "nbformat": 4,
 "nbformat_minor": 5
}
